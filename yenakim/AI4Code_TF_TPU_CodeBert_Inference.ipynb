{
  "nbformat": 4,
  "nbformat_minor": 0,
  "metadata": {
    "colab": {
      "name": "AI4Code TF TPU CodeBert - Inference.ipynb",
      "provenance": [],
      "authorship_tag": "ABX9TyOQ5SZElVjkC8lR+ExlGrHC",
      "include_colab_link": true
    },
    "kernelspec": {
      "name": "python3",
      "display_name": "Python 3"
    },
    "language_info": {
      "name": "python"
    }
  },
  "cells": [
    {
      "cell_type": "markdown",
      "metadata": {
        "id": "view-in-github",
        "colab_type": "text"
      },
      "source": [
        "<a href=\"https://colab.research.google.com/github/yonseimath/datascience-biginner-2022-kaggle-competitions/blob/feature%2Fyenakim/yenakim/AI4Code_TF_TPU_CodeBert_Inference.ipynb\" target=\"_parent\"><img src=\"https://colab.research.google.com/assets/colab-badge.svg\" alt=\"Open In Colab\"/></a>"
      ]
    },
    {
      "cell_type": "markdown",
      "source": [
        "# Setup"
      ],
      "metadata": {
        "id": "Kc4b5_DvDOxw"
      }
    },
    {
      "cell_type": "code",
      "execution_count": null,
      "metadata": {
        "id": "HSEgpK6jDMkF"
      },
      "outputs": [],
      "source": [
        "import glob\n",
        "import os\n",
        "from typing import List\n",
        "\n",
        "import numpy as np\n",
        "import pandas as pd\n",
        "import tensorflow as tf\n",
        "import transformers\n",
        "from tqdm.notebook import tqdm"
      ]
    },
    {
      "cell_type": "code",
      "source": [
        "BATCH_SIZE = 32\n",
        "SLICES = 8\n",
        "MD_MAX_LEN = 64\n",
        "TOTAL_MAX_LEN = 512\n",
        "STRATEGY = tf.distribute.get_strategy() # with strategy.scope()의 strategy 반환\n",
        "BASE_MODEL = \"../input/codebert-base/codebert-base\"\n",
        "TOKENIZER = transformers.AutoTokenizer.from_pretrained(BASE_MODEL)\n",
        "INPUT_PATH = \"../input/AI4Code\""
      ],
      "metadata": {
        "id": "jd_XA22UDRGe"
      },
      "execution_count": null,
      "outputs": []
    },
    {
      "cell_type": "markdown",
      "source": [
        "# Collect Data"
      ],
      "metadata": {
        "id": "1orzfGFDDTs1"
      }
    },
    {
      "cell_type": "code",
      "source": [
        "paths = glob.glob(os.path.join(INPUT_PATH, \"test\", \"*.json\"))\n",
        "df = (\n",
        "    pd.concat([read_notebook(x) for x in tqdm(paths, desc=\"Concat\")])\n",
        "    .set_index(\"id\", append=True)\n",
        "    .swaplevel()\n",
        "    .sort_index(level=\"id\", sort_remaining=False)\n",
        ").reset_index()\n",
        "df[\"source\"] = df[\"source\"].str.slice(0, MD_MAX_LEN) # MD_MAX_LEN을 넘어가면 잘라냄\n",
        "df[\"rank\"] = df.groupby([\"id\", \"cell_type\"]).cumcount() # 각 그룹의 항목에 0부터 숫자를 매김\n",
        "df[\"pct_rank\"] = df.groupby([\"id\", \"cell_type\"])[\"rank\"].rank(pct=True)\n",
        "\n",
        "fts = get_features(df)"
      ],
      "metadata": {
        "id": "I38mLjyiDUjI"
      },
      "execution_count": null,
      "outputs": []
    },
    {
      "cell_type": "markdown",
      "source": [
        "# Run Inference"
      ],
      "metadata": {
        "id": "jaqr2hysDWhu"
      }
    },
    {
      "cell_type": "code",
      "source": [
        "with STRATEGY.scope():\n",
        "    model = get_model()\n",
        "    model.load_weights(\"../input/ai4code-codebert-weights/model_0.h5\")\n",
        "\n",
        "predict = np.array([], dtype=np.float32)\n",
        "\n",
        "for chunk in tqdm(\n",
        "    np.array_split(df[df[\"cell_type\"] == \"markdown\"], SLICES), total=SLICES # 이 부분 이해 X\n",
        "):\n",
        "    if chunk.empty:\n",
        "        continue\n",
        "\n",
        "    data = tokenize(chunk, fts)\n",
        "\n",
        "    dataset = get_dataset(data[\"input_ids\"], data[\"attention_mask\"], data[\"features\"])\n",
        "    predict = np.r_[\n",
        "        predict,\n",
        "        model.predict(dataset).reshape(\n",
        "            -1,\n",
        "        ),\n",
        "    ]"
      ],
      "metadata": {
        "id": "Lq2R7-TtDYPI"
      },
      "execution_count": null,
      "outputs": []
    },
    {
      "cell_type": "markdown",
      "source": [
        "# Save Submission"
      ],
      "metadata": {
        "id": "wJ6EyGFnDajM"
      }
    },
    {
      "cell_type": "code",
      "source": [
        "df.loc[df[\"cell_type\"] == \"markdown\", \"pct_rank\"] = predict\n",
        "df = df.sort_values(\"pct_rank\").groupby(\"id\")[\"cell_id\"].apply(\" \".join)\n",
        "df.name = \"cell_order\"\n",
        "df.to_csv(\"submission.csv\")"
      ],
      "metadata": {
        "id": "z5F5ccj0DfgV"
      },
      "execution_count": null,
      "outputs": []
    }
  ]
}